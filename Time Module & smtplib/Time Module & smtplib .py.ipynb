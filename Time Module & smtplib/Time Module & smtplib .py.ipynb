{
 "cells": [
  {
   "cell_type": "code",
   "execution_count": 6,
   "id": "b9cadd90",
   "metadata": {},
   "outputs": [
    {
     "name": "stdout",
     "output_type": "stream",
     "text": [
      "1689361985.4289622\n",
      "time.struct_time(tm_year=2023, tm_mon=7, tm_mday=14, tm_hour=21, tm_min=13, tm_sec=5, tm_wday=4, tm_yday=195, tm_isdst=0)\n"
     ]
    }
   ],
   "source": [
    "import time \n",
    "epc=time.time()\n",
    "print(epc)\n",
    "localtime= time.localtime(epc)\n",
    "print(localtime)"
   ]
  },
  {
   "cell_type": "code",
   "execution_count": 7,
   "id": "a8a01377",
   "metadata": {},
   "outputs": [
    {
     "name": "stdout",
     "output_type": "stream",
     "text": [
      "2023\n"
     ]
    }
   ],
   "source": [
    "print(localtime.tm_year)"
   ]
  },
  {
   "cell_type": "code",
   "execution_count": 8,
   "id": "8bc7a628",
   "metadata": {},
   "outputs": [
    {
     "name": "stdout",
     "output_type": "stream",
     "text": [
      "Fri Jul 14 21:13:05 2023\n"
     ]
    }
   ],
   "source": [
    "print(time.ctime(epc))"
   ]
  },
  {
   "cell_type": "markdown",
   "id": "064c52d9",
   "metadata": {},
   "source": [
    "#  import smtplib\n",
    "\n",
    "myemail = \"myemail@gmail.com\"\n",
    "\n",
    "mypassword = \"mypassword\"\n",
    "\n",
    "connection = smtplib.SMTP(\"smtp.gmail.com\", 587)\n",
    "\n",
    "connection.starttls()\n",
    "\n",
    "connection.login(user= myemail, password= mypassword)\n",
    "\n",
    "\n",
    "connection.sendmail(from_addr= myemail,\n",
    "                    to_addrs= \"reciver@gmail.com\",\n",
    "                    msg = \"Subscribe\")\n",
    "connection.close()\n",
    "\n",
    "-----------------------------------------------------------------\n",
    "\n",
    "but that code nolonger support gmail & yahoo \n",
    "-------------------------------------------------------------------"
   ]
  },
  {
   "cell_type": "markdown",
   "id": "806e0157",
   "metadata": {},
   "source": [
    "# created by\n",
    "Abdulrahman Mohammed"
   ]
  },
  {
   "cell_type": "code",
   "execution_count": null,
   "id": "14bece25",
   "metadata": {},
   "outputs": [],
   "source": []
  }
 ],
 "metadata": {
  "kernelspec": {
   "display_name": "Python 3 (ipykernel)",
   "language": "python",
   "name": "python3"
  },
  "language_info": {
   "codemirror_mode": {
    "name": "ipython",
    "version": 3
   },
   "file_extension": ".py",
   "mimetype": "text/x-python",
   "name": "python",
   "nbconvert_exporter": "python",
   "pygments_lexer": "ipython3",
   "version": "3.9.13"
  }
 },
 "nbformat": 4,
 "nbformat_minor": 5
}
