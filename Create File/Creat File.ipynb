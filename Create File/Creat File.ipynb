{
 "cells": [
  {
   "cell_type": "code",
   "execution_count": 4,
   "id": "95f1bb37",
   "metadata": {},
   "outputs": [],
   "source": [
    "from os import path\n",
    "def createfile(dest):\n",
    "    if not (path.isfile(dest)):\n",
    "        f=open(dest,'w')\n",
    "        f.write(\"welcome i am abdo\")\n",
    "dest=\"a:\\\\ABDO\\\\FILE.TXT\"  #THAT PATH\n",
    "createfile(dest)"
   ]
  },
  {
   "cell_type": "code",
   "execution_count": 5,
   "id": "b2ff6829",
   "metadata": {},
   "outputs": [
    {
     "name": "stdout",
     "output_type": "stream",
     "text": [
      "file created\n"
     ]
    }
   ],
   "source": [
    "print(\"file created\")"
   ]
  },
  {
   "cell_type": "markdown",
   "id": "1ff728e6",
   "metadata": {},
   "source": [
    "# created by\n",
    "Abdulrahman Mohammed"
   ]
  }
 ],
 "metadata": {
  "kernelspec": {
   "display_name": "Python 3 (ipykernel)",
   "language": "python",
   "name": "python3"
  },
  "language_info": {
   "codemirror_mode": {
    "name": "ipython",
    "version": 3
   },
   "file_extension": ".py",
   "mimetype": "text/x-python",
   "name": "python",
   "nbconvert_exporter": "python",
   "pygments_lexer": "ipython3",
   "version": "3.9.13"
  }
 },
 "nbformat": 4,
 "nbformat_minor": 5
}
