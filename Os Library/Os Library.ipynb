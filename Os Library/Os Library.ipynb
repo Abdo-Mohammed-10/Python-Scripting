{
 "cells": [
  {
   "cell_type": "markdown",
   "id": "b6249d9b",
   "metadata": {},
   "source": [
    "# Os Library"
   ]
  },
  {
   "cell_type": "code",
   "execution_count": 10,
   "id": "7155640f",
   "metadata": {},
   "outputs": [
    {
     "name": "stdout",
     "output_type": "stream",
     "text": [
      "C:\\Users\\HP Elite BOOK\n",
      "C:\\Users\\HP Elite BOOK\\simple.txt\n"
     ]
    }
   ],
   "source": [
    "import os\n",
    "def current_dir():\n",
    "    cwd=os.getcwd()\n",
    "    print(cwd)\n",
    "def file_path(filename):\n",
    "    path=os.path.abspath((filename)) \n",
    "    print(path)\n",
    "current_dir()\n",
    "filename=\"simple.txt\"\n",
    "file_path(filename)"
   ]
  },
  {
   "cell_type": "markdown",
   "id": "a1e350fa",
   "metadata": {},
   "source": [
    "# Created by \n",
    "Abdulrahman Mohammed"
   ]
  }
 ],
 "metadata": {
  "kernelspec": {
   "display_name": "Python 3 (ipykernel)",
   "language": "python",
   "name": "python3"
  },
  "language_info": {
   "codemirror_mode": {
    "name": "ipython",
    "version": 3
   },
   "file_extension": ".py",
   "mimetype": "text/x-python",
   "name": "python",
   "nbconvert_exporter": "python",
   "pygments_lexer": "ipython3",
   "version": "3.9.13"
  }
 },
 "nbformat": 4,
 "nbformat_minor": 5
}
