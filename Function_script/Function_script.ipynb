{
 "cells": [
  {
   "cell_type": "markdown",
   "id": "538b97eb",
   "metadata": {},
   "source": [
    "# Function"
   ]
  },
  {
   "cell_type": "code",
   "execution_count": 5,
   "id": "80334721",
   "metadata": {
    "scrolled": true
   },
   "outputs": [
    {
     "name": "stdout",
     "output_type": "stream",
     "text": [
      "('a', 10)\n",
      "('x', 20)\n",
      "('c', 30)\n",
      "('d', 40)\n",
      "('n', 'abdo')\n"
     ]
    }
   ],
   "source": [
    "def funcl(*arg,**kwarg):\n",
    "    \n",
    "     for i in kwarg.items():\n",
    "    \n",
    "            print(i)\n",
    "        \n",
    "        \n",
    "funcl(a=10,x=20,c=30,d=40,n=\"abdo\")"
   ]
  },
  {
   "cell_type": "markdown",
   "id": "3f773002",
   "metadata": {},
   "source": [
    "# Nested Fun"
   ]
  },
  {
   "cell_type": "code",
   "execution_count": 6,
   "id": "e13b12e4",
   "metadata": {},
   "outputs": [
    {
     "name": "stdout",
     "output_type": "stream",
     "text": [
      "11\n"
     ]
    }
   ],
   "source": [
    "def fun1():\n",
    "    x=10\n",
    "    def fun2(x):\n",
    "        return x+1\n",
    "    return fun2(x)\n",
    "result=fun1()\n",
    "print (result)"
   ]
  },
  {
   "cell_type": "code",
   "execution_count": 14,
   "id": "c05793d6",
   "metadata": {},
   "outputs": [
    {
     "name": "stdout",
     "output_type": "stream",
     "text": [
      "first fun\n",
      "nested fun\n"
     ]
    }
   ],
   "source": [
    "def fun1(calledfun):\n",
    "    print (\"first fun\")\n",
    "    def nest_fun(calledfun):\n",
    "        print(\"nested fun\")\n",
    "        calledfun\n",
    "    return nest_fun(calledfun)\n",
    "def outer_fun():\n",
    "    print(\"outer fun\")\n",
    "\n",
    "    \n",
    "obj=fun1(\"example\")"
   ]
  },
  {
   "cell_type": "markdown",
   "id": "7216df2b",
   "metadata": {},
   "source": [
    "# Factory"
   ]
  },
  {
   "cell_type": "code",
   "execution_count": 22,
   "id": "7a6cab78",
   "metadata": {},
   "outputs": [
    {
     "name": "stdout",
     "output_type": "stream",
     "text": [
      "10\n",
      "5\n"
     ]
    }
   ],
   "source": [
    "B=type(\"bass\",(object,),{})\n",
    "c1=type(\"c1\",(B,),{\"VAL\":10})\n",
    "c2=type(\"c2\",(B,),{\"VAL\":5})\n",
    "def classcreator(bool):\n",
    "    if bool:\n",
    "        return c1()\n",
    "    else:\n",
    "        return c2()\n",
    "print( classcreator(True).VAL)\n",
    "print( classcreator(False).VAL)\n",
    "\n"
   ]
  },
  {
   "cell_type": "markdown",
   "id": "a550ab08",
   "metadata": {},
   "source": [
    "# Created by\n",
    "Abdulrahman Mohammmed"
   ]
  }
 ],
 "metadata": {
  "kernelspec": {
   "display_name": "Python 3 (ipykernel)",
   "language": "python",
   "name": "python3"
  },
  "language_info": {
   "codemirror_mode": {
    "name": "ipython",
    "version": 3
   },
   "file_extension": ".py",
   "mimetype": "text/x-python",
   "name": "python",
   "nbconvert_exporter": "python",
   "pygments_lexer": "ipython3",
   "version": "3.9.13"
  }
 },
 "nbformat": 4,
 "nbformat_minor": 5
}
