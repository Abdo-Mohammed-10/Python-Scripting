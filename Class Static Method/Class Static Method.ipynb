{
 "cells": [
  {
   "cell_type": "code",
   "execution_count": 43,
   "id": "fa65e5f6",
   "metadata": {},
   "outputs": [],
   "source": [
    "class demo():\n",
    "    #class method\n",
    "    def addone(self,x):\n",
    "        return x+1\n",
    "    \n",
    "    #static method\n",
    "    def addtwo(y):\n",
    "        return y+2\n"
   ]
  },
  {
   "cell_type": "code",
   "execution_count": 44,
   "id": "20e5f5f3",
   "metadata": {},
   "outputs": [],
   "source": [
    "obj=demo()"
   ]
  },
  {
   "cell_type": "code",
   "execution_count": 49,
   "id": "668e5552",
   "metadata": {},
   "outputs": [],
   "source": [
    "obj=(demo.addone(\"self\",20))"
   ]
  },
  {
   "cell_type": "code",
   "execution_count": 50,
   "id": "b1dd918e",
   "metadata": {},
   "outputs": [],
   "source": [
    "obj1=(demo.addtwo(10))"
   ]
  },
  {
   "cell_type": "code",
   "execution_count": 51,
   "id": "1f768ece",
   "metadata": {},
   "outputs": [
    {
     "name": "stdout",
     "output_type": "stream",
     "text": [
      "21\n",
      "12\n"
     ]
    }
   ],
   "source": [
    "print(obj)\n",
    "print(obj1)"
   ]
  },
  {
   "cell_type": "markdown",
   "id": "ff44c84d",
   "metadata": {},
   "source": [
    "# Created by\n",
    "Abdulrahman Mohammed"
   ]
  }
 ],
 "metadata": {
  "kernelspec": {
   "display_name": "Python 3 (ipykernel)",
   "language": "python",
   "name": "python3"
  },
  "language_info": {
   "codemirror_mode": {
    "name": "ipython",
    "version": 3
   },
   "file_extension": ".py",
   "mimetype": "text/x-python",
   "name": "python",
   "nbconvert_exporter": "python",
   "pygments_lexer": "ipython3",
   "version": "3.9.13"
  }
 },
 "nbformat": 4,
 "nbformat_minor": 5
}
